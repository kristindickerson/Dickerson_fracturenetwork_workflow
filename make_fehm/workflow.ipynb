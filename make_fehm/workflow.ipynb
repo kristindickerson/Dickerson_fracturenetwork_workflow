{
 "cells": [
  {
   "cell_type": "code",
   "execution_count": null,
   "metadata": {},
   "outputs": [
    {
     "name": "stdout",
     "output_type": "stream",
     "text": [
      "Data successfully saved as CSV to /Users/kristindickerson/00_local/NASA-ExOW/codes/Dickerson_fracturenetwork_workflow/run_fehm/combined_UDFM/octree/octree_nodes.csv\n",
      "            x       y       z  material\n",
      "0     -5000.0 -5000.0 -5000.0         1\n",
      "1     -5000.0 -5000.0 -4000.0         1\n",
      "2     -5000.0 -5000.0 -3000.0         1\n",
      "3     -5000.0 -5000.0 -2000.0         1\n",
      "4     -5000.0 -5000.0 -1000.0         1\n",
      "...       ...     ...     ...       ...\n",
      "23205  5000.0  5000.0  3750.0         1\n",
      "23206  5000.0  5000.0  4000.0         1\n",
      "23207  5000.0  5000.0  4250.0         1\n",
      "23208  5000.0  5000.0  4500.0         1\n",
      "23209  5000.0  5000.0  5000.0         1\n",
      "\n",
      "[23210 rows x 4 columns]\n"
     ]
    }
   ],
   "source": [
    "import pickle\n",
    "import pandas as pd\n",
    "\n",
    "# Replace 'your_file.pkl' with the actual path to your pickle file\n",
    "file_path = \"/Users/kristindickerson/00_local/NASA-ExOW/codes/Dickerson_fracturenetwork_workflow/run_fehm/combined_UDFM/octree/octree_nodes.pkl\"\n",
    "csv_file_path = \"/Users/kristindickerson/00_local/NASA-ExOW/codes/Dickerson_fracturenetwork_workflow/run_fehm/combined_UDFM/octree/octree_nodes.csv\"\n",
    "\n",
    "\n",
    "# Check if the data is a DataFrame\n",
    "if isinstance(data, pd.DataFrame):\n",
    "    # If it's already a DataFrame, save it directly to CSV\n",
    "    data.to_csv(csv_file_path, index=False)\n",
    "    print(f\"Data successfully saved as CSV to {csv_file_path}\")\n",
    "\n",
    "# If the data is a list or dictionary, convert it to a DataFrame first\n",
    "elif isinstance(data, (list, dict)):\n",
    "    df = pd.DataFrame(data)\n",
    "    df.to_csv(csv_file_path, index=False)\n",
    "    print(f\"Data successfully saved as CSV to {csv_file_path}\")\n",
    "else:\n",
    "    print(\"The loaded data is not in a format that can be easily saved to CSV.\")\n",
    "\n",
    "# Open and load the pickle file\n",
    "with open(file_path, \"rb\") as f:\n",
    "    data = pickle.load(f, encoding='latin1')\n",
    "\n",
    "# Now 'data' contains the loaded object\n",
    "print(data)"
   ]
  },
  {
   "cell_type": "code",
   "execution_count": null,
   "metadata": {},
   "outputs": [
    {
     "name": "stdout",
     "output_type": "stream",
     "text": [
      "Current working directory: /Users/kristindickerson/00_local/NASA-ExOW/codes/Dickerson_fracturenetwork_workflow/run_fehm\n",
      "Saving file to: /path/to/directory/output_file.csv\n"
     ]
    }
   ],
   "source": [
    "import os\n",
    "print(\"Current working directory:\", os.getcwd())\n",
    "import os\n",
    "csv_file_path = \"/path/to/directory/output_file.csv\"\n",
    "print(f\"Saving file to: {os.path.abspath(csv_file_path)}\")"
   ]
  }
 ],
 "metadata": {
  "kernelspec": {
   "display_name": "myenv",
   "language": "python",
   "name": "python3"
  },
  "language_info": {
   "codemirror_mode": {
    "name": "ipython",
    "version": 3
   },
   "file_extension": ".py",
   "mimetype": "text/x-python",
   "name": "python",
   "nbconvert_exporter": "python",
   "pygments_lexer": "ipython3",
   "version": "3.12.6"
  }
 },
 "nbformat": 4,
 "nbformat_minor": 2
}
